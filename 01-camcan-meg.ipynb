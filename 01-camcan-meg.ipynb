{
 "cells": [
  {
   "cell_type": "code",
   "execution_count": null,
   "metadata": {
    "collapsed": true
   },
   "outputs": [],
   "source": [
    "# path operations\n",
    "from glob import glob\n",
    "import os\n",
    "from pathlib import Path\n",
    "\n",
    "# data format and storage\n",
    "from collections import namedtuple\n",
    "import pickle\n",
    "\n",
    "# numerical tools\n",
    "import numpy as np\n",
    "import scipy.stats\n",
    "import pandas as pd\n",
    "\n",
    "# plotting tools\n",
    "from matplotlib import pyplot as plt\n",
    "# %matplotlib notebook\n",
    "\n",
    "# interactive notebook features\n",
    "from tqdm import tqdm_notebook as tqdm\n",
    "from ipywidgets import interact\n",
    "\n",
    "# meg analysis\n",
    "import mne"
   ]
  },
  {
   "cell_type": "markdown",
   "metadata": {},
   "source": [
    "## Find all available subjects\n",
    "\n",
    "Define where you store your `camcan` data in the variable `camcanroot`."
   ]
  },
  {
   "cell_type": "code",
   "execution_count": null,
   "metadata": {},
   "outputs": [],
   "source": [
    "camcanroot = Path('/Volumes') / 'Seagate Expansion Drive' /'camcan'\n",
    "# camcanroot = Path('D:') / 'camcan'\n",
    "# camcanroot = Path('/data') / 'group' / 'FANS' / 'camcan-meg' / 'camcan165' / 'camcan165'\n",
    "# camcanroot = Path('/Users') / 'jan' / 'Documents' / 'eeg-data' / 'camcan'\n",
    "\n",
    "megdataroot = camcanroot / 'cc700' / 'mri' / 'pipeline' / 'release004' / 'BIDSsep' / 'megraw'\n",
    "subjects = list(megdataroot.glob('sub-*'))\n",
    "ids = [os.path.split(subject)[-1][4:] for subject in subjects]\n",
    "\n",
    "print(f'{len(subjects)} subjects found in {megdataroot}')\n",
    "\n",
    "# filter out no-files\n",
    "subjects = [subject for subject in subjects if (subject / 'meg' / 'rest_raw.fif').is_file()]\n",
    "print(f'{len(subjects)} subjects have resting-state recordings.')\n",
    "\n",
    "# find the demographic info\n",
    "subject_details = pd.DataFrame.from_csv(camcanroot / 'cc700-scored' / 'participant_data.csv')\n",
    "print(f'Found subject information on {len([pid for pid in ids if pid in subject_details.index])} subjects.')"
   ]
  },
  {
   "cell_type": "markdown",
   "metadata": {},
   "source": [
    "## Set up MEG analysis variables"
   ]
  },
  {
   "cell_type": "code",
   "execution_count": null,
   "metadata": {
    "collapsed": true
   },
   "outputs": [],
   "source": [
    "veog = 'EOG062'\n",
    "heog = 'EOG061'\n",
    "ecg = 'ECG063'\n",
    "recording='task'\n",
    "fmin, fmax = 2, 24"
   ]
  },
  {
   "cell_type": "markdown",
   "metadata": {},
   "source": [
    "## Loop over MEG data\n",
    "\n",
    "First, make a data structure we can put the data in"
   ]
  },
  {
   "cell_type": "code",
   "execution_count": null,
   "metadata": {
    "collapsed": true
   },
   "outputs": [],
   "source": [
    "sub_params = namedtuple('sub_params',\n",
    "                        ['pid', 'slopes', 'age', 'gender',\n",
    "                         'intercepts', 'rsquared'])"
   ]
  },
  {
   "cell_type": "markdown",
   "metadata": {},
   "source": [
    "For the pre-processing, we'll also use Maxwell-filtering to correct for extraneous influence. These are the necessary files:"
   ]
  },
  {
   "cell_type": "code",
   "execution_count": null,
   "metadata": {
    "collapsed": true
   },
   "outputs": [],
   "source": [
    "ctfile = megdataroot / 'ct_sparse.fif'\n",
    "ssscal = megdataroot / 'sss_cal.dat'"
   ]
  },
  {
   "cell_type": "markdown",
   "metadata": {},
   "source": [
    "Then, populate this data structure for each subject"
   ]
  },
  {
   "cell_type": "code",
   "execution_count": null,
   "metadata": {
    "collapsed": true
   },
   "outputs": [],
   "source": [
    "all_parameters = []\n",
    "psds = []\n",
    "\n",
    "for subject in tqdm(range(2)):\n",
    "    # resting state file\n",
    "    restfile = subjects[subject] / 'meg' / (recording + '_raw.fif')\n",
    "    # raw data\n",
    "    raw = mne.io.read_raw_fif(restfile, verbose='WARNING')\n",
    "    # crop\n",
    "    raw = raw.crop(tmin=20, tmax=500)\n",
    "    # resample\n",
    "    raw = raw.load_data()\n",
    "    raw = raw.resample(256)\n",
    "    # filter\n",
    "    # filter the MEG data (exclude line noise)\n",
    "    raw = raw.filter(0.5, 30, picks=mne.pick_types(raw.info, meg=True))\n",
    "    # filter the EOG data\n",
    "    raw = raw.filter(0.5, 15, picks=mne.pick_types(raw.info, meg=False, eog=True))\n",
    "    # filter the ECG data\n",
    "    raw = raw.filter(0.5, 15, picks=mne.pick_types(raw.info, meg=False, ecg=True))\n",
    "    # maxwell-correction\n",
    "    raw = mne.preprocessing.maxwell_filter(raw, cross_talk=str(ctfile), calibration=str(ssscal),\n",
    "                                           st_duration=10, st_correlation=0.98)\n",
    "    # pick gradiometers\n",
    "    picks = mne.pick_types(raw.info, meg='grad', eeg=False, stim=False, eog=False, exclude='bads')\n",
    "    # run an ICA\n",
    "    try:\n",
    "        ica = mne.preprocessing.run_ica(raw, n_components=0.95,\n",
    "                                        picks=picks,\n",
    "                                        eog_ch=veog, ecg_ch=ecg)\n",
    "        raw = ica.apply(raw, exclude=ica.exclude)\n",
    "    except RuntimeError:\n",
    "        continue\n",
    "    \n",
    "    \n",
    "    # do the PSD analysis\n",
    "    psd, freqs = mne.time_frequency.psd_welch(\n",
    "        raw, picks=picks, fmin=fmin, fmax=fmax, n_fft=2000, n_overlap=1000,\n",
    "        verbose='WARNING', n_jobs=4\n",
    "    )\n",
    "\n",
    "    # Do the linear regression\n",
    "    findices = (freqs < 7) | (freqs > 14)\n",
    "    linfits = [scipy.stats.linregress(freqs[findices], np.log10(psd.T[findices, grad]))\n",
    "               for grad in range(psd.shape[0])]\n",
    "\n",
    "    psds.append(psd)\n",
    "    all_parameters.append(\n",
    "        sub_params(pid=ids[subject],\n",
    "                   slopes=np.array([l.slope for l in linfits]),\n",
    "                   intercepts=np.array([l.intercept for l in linfits]),\n",
    "                   rsquared=np.array([l.rvalue**2 for l in linfits]),\n",
    "                   age=subject_details.loc[ids[subject]].age,\n",
    "                   gender=subject_details.loc[ids[subject]].gender_code)\n",
    "    )\n",
    "    with open(Path('.') / 'pickles' / (ids[subject] + '-' + recording + '.pickle'), 'wb+') as f:\n",
    "        pickle.dump((psd, sub_params), f)\n",
    "\n"
   ]
  },
  {
   "cell_type": "markdown",
   "metadata": {},
   "source": [
    "### Save data to pickles"
   ]
  },
  {
   "cell_type": "code",
   "execution_count": null,
   "metadata": {
    "collapsed": true
   },
   "outputs": [],
   "source": [
    "# save data to file\n",
    "with open('./pickles/psds.pickle', 'wb+') as f:\n",
    "    pickle.dump(psds, f)\n",
    "with open('./pickles/all_parameters.pickle', 'wb+') as f:\n",
    "    pickle.dump(all_parameters, f)\n"
   ]
  }
 ],
 "metadata": {
  "kernelspec": {
   "display_name": "Python 3",
   "language": "python",
   "name": "python3"
  },
  "language_info": {
   "codemirror_mode": {
    "name": "ipython",
    "version": 3
   },
   "file_extension": ".py",
   "mimetype": "text/x-python",
   "name": "python",
   "nbconvert_exporter": "python",
   "pygments_lexer": "ipython3",
   "version": "3.6.1"
  },
  "widgets": {
   "state": {
    "25aa2f2160a94ac49f6aa1d27c0acd21": {
     "views": [
      {
       "cell_index": 7
      }
     ]
    }
   },
   "version": "1.2.0"
  }
 },
 "nbformat": 4,
 "nbformat_minor": 2
}
