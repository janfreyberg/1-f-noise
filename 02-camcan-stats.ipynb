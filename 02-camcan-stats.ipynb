{
 "cells": [
  {
   "cell_type": "code",
   "execution_count": null,
   "metadata": {
    "collapsed": true
   },
   "outputs": [],
   "source": [
    "# path operations\n",
    "from glob import glob\n",
    "import os\n",
    "from pathlib import Path\n",
    "\n",
    "# data format and storage\n",
    "from collections import namedtuple\n",
    "import pickle\n",
    "\n",
    "# numerical tools\n",
    "import numpy as np\n",
    "import scipy.stats\n",
    "import pandas as pd\n",
    "\n",
    "# plotting tools\n",
    "from matplotlib import pyplot as plt\n",
    "# %matplotlib notebook\n",
    "\n",
    "# interactive notebook features\n",
    "from tqdm import tqdm_notebook as tqdm\n",
    "from ipywidgets import interact\n",
    "\n",
    "# meg analysis\n",
    "import mne"
   ]
  },
  {
   "cell_type": "code",
   "execution_count": null,
   "metadata": {
    "collapsed": true
   },
   "outputs": [],
   "source": []
  },
  {
   "cell_type": "code",
   "execution_count": null,
   "metadata": {
    "collapsed": true
   },
   "outputs": [],
   "source": [
    "bad_elecs = []\n",
    "\n",
    "for pid in range(len(psds)):\n",
    "    bads = np.zeros_like(all_parameters[pid].rsquared, dtype='bool')\n",
    "    bads = bads | (all_parameters[pid].slopes > 0)\n",
    "    bads = bads | (all_parameters[pid].intercepts >\n",
    "                   all_parameters[pid].intercepts.mean() + 2 * all_parameters[pid].intercepts.std())\n",
    "    bads = bads | (all_parameters[pid].intercepts <\n",
    "                   all_parameters[pid].intercepts.mean() - 2 * all_parameters[pid].intercepts.std())\n",
    "    bad_elecs.append(bads)\n",
    "    print(bads.mean())"
   ]
  },
  {
   "cell_type": "code",
   "execution_count": null,
   "metadata": {
    "collapsed": true
   },
   "outputs": [],
   "source": [
    "pltdata = np.log10(np.stack([p[~bad_elecs[i], :].mean(axis=0)\n",
    "                             for i, p in enumerate(psds)],\n",
    "                             axis=-1))\n",
    "\n",
    "x = freqs\n",
    "\n",
    "plt.figure()\n",
    "plt.fill_between(x,\n",
    "                 np.mean(pltdata, axis=-1)-scipy.stats.sem(pltdata, axis=-1),\n",
    "                 np.mean(pltdata, axis=-1)+scipy.stats.sem(pltdata, axis=-1))\n",
    "# plt.plot(x, pltdata, color=(0.5, 0.5, 1, 0.5))\n",
    "plt.plot(x, np.mean(pltdata, axis=-1), color='orange')\n",
    "plt.show()"
   ]
  },
  {
   "cell_type": "code",
   "execution_count": null,
   "metadata": {
    "collapsed": true
   },
   "outputs": [],
   "source": [
    "ages = np.array([p.age for p in all_parameters])\n",
    "young = ages < np.percentile(ages, 25)\n",
    "old = ages > np.percentile(ages, 75)"
   ]
  },
  {
   "cell_type": "code",
   "execution_count": null,
   "metadata": {
    "collapsed": true
   },
   "outputs": [],
   "source": [
    "plt.figure(figsize=(12, 8))\n",
    "\n",
    "legendentries = []\n",
    "for group, color, label in [(young, [1, 0.4, 0.4], 'Youngest 25%'), (old, [0.4, 0.4, 1], 'Oldest 25%')]:\n",
    "    pltdata = np.log10(np.stack([p[~bad_elecs[i], :].mean(axis=0)\n",
    "                                 for i, p in enumerate(psds)\n",
    "                                 if group[i]],\n",
    "                                axis=-1))\n",
    "    plt.fill_between(\n",
    "        x, np.mean(pltdata, axis=-1)-scipy.stats.sem(pltdata, axis=-1),\n",
    "        np.mean(pltdata, axis=-1)+scipy.stats.sem(pltdata, axis=-1),\n",
    "        color=color+[0.3]\n",
    "    )\n",
    "    legendentries.append(plt.plot(x, np.mean(pltdata, axis=-1), color=color, label=label))\n",
    "\n",
    "plt.ylabel('Power ($log_{10}(mV^2)$)', fontsize=20)\n",
    "plt.xlabel('Frequency (Hz)', fontsize=20)\n",
    "plt.legend(fontsize=16)\n",
    "plt.show()"
   ]
  },
  {
   "cell_type": "code",
   "execution_count": null,
   "metadata": {
    "collapsed": true
   },
   "outputs": [],
   "source": [
    "def individual_spectrum(subjectno):\n",
    "    dat = psds[subjectno]\n",
    "    plt.figure()\n",
    "    # plot individual lines, faint\n",
    "    plt.plot(freqs, np.log10(dat.T), color=(0.3, 0.3, 1.0, 0.2))\n",
    "    plt.plot(freqs, np.log10(dat).mean(axis=0), color=(1, 0.3, 0.3))\n",
    "    plt.show()\n",
    "\n",
    "interact(individual_spectrum, subjectno=(0, len(psds)-1))"
   ]
  },
  {
   "cell_type": "code",
   "execution_count": null,
   "metadata": {
    "collapsed": true
   },
   "outputs": [],
   "source": [
    "y = np.array([p.slopes for p in all_parameters])\n",
    "\n",
    "plt.figure()\n",
    "plt.boxplot(y.T)\n",
    "plt.title('Regression slopes')\n",
    "plt.show()\n",
    "\n",
    "y = np.array([p.rsquared for p in all_parameters])\n",
    "\n",
    "plt.figure()\n",
    "plt.boxplot(y.T)\n",
    "plt.title('$r^2$ values')\n",
    "plt.show()\n"
   ]
  },
  {
   "cell_type": "code",
   "execution_count": null,
   "metadata": {
    "collapsed": true
   },
   "outputs": [],
   "source": [
    "x = [p.age for p in all_parameters]\n",
    "y = [np.mean(p.slopes[~bad_elecs[i]]) for i, p in enumerate(all_parameters)]\n",
    "\n",
    "plt.figure(figsize=(12, 8))\n",
    "plt.scatter(x, y, c=x)\n",
    "plt.xlabel(r'Age (Years)', fontsize=20)\n",
    "plt.ylabel(r'Regression slope ($log_{10}(mV^2) \\times Hz^{-1}$)', fontsize=20)\n",
    "plt.show()\n",
    "\n",
    "print(scipy.stats.pearsonr(x, y))\n"
   ]
  },
  {
   "cell_type": "code",
   "execution_count": null,
   "metadata": {
    "collapsed": true
   },
   "outputs": [],
   "source": [
    "# Load the short-term memory data\n",
    "stm = pd.read_csv(\n",
    "    camcanroot / 'cc700-scored' / 'VSTMcolour' / 'release001' / 'summary' / 'VSTMcolour_summary.txt',\n",
    "    sep='\\t', skiprows=8, index_col=0\n",
    ")"
   ]
  },
  {
   "cell_type": "code",
   "execution_count": null,
   "metadata": {
    "collapsed": true
   },
   "outputs": [],
   "source": [
    "ages = [p.age for p in all_parameters if p.pid in stm.index]\n",
    "slopes = [np.mean(p.slopes[~bad_elecs[i]]) for i, p in enumerate(all_parameters) if p.pid in stm.index]\n",
    "\n",
    "x = slopes\n",
    "y = [float(stm.loc[p.pid, 'Prcsn_ss3'])\n",
    "                 for p in all_parameters\n",
    "                 if p.pid in stm.index]\n",
    "\n",
    "print(scipy.stats.pearsonr(x, y))\n",
    "\n",
    "plt.figure(figsize=(12, 8))\n",
    "plt.scatter(x, y)\n",
    "plt.ylabel(r'Short term memory performance', fontsize=20)\n",
    "plt.xlabel(r'Regression slope ($log_{10}(mV^2) \\times Hz^{-1}$)', fontsize=20)\n",
    "plt.show()"
   ]
  }
 ],
 "metadata": {
  "kernelspec": {
   "display_name": "Python 3",
   "language": "python",
   "name": "python3"
  },
  "language_info": {
   "codemirror_mode": {
    "name": "ipython",
    "version": 3
   },
   "file_extension": ".py",
   "mimetype": "text/x-python",
   "name": "python",
   "nbconvert_exporter": "python",
   "pygments_lexer": "ipython3",
   "version": "3.6.1"
  }
 },
 "nbformat": 4,
 "nbformat_minor": 2
}
