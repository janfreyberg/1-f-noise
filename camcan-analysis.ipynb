{
 "cells": [
  {
   "cell_type": "code",
   "execution_count": 17,
   "metadata": {
    "collapsed": true
   },
   "outputs": [],
   "source": [
    "from glob import glob\n",
    "import os\n",
    "from collections import namedtuple\n",
    "import pickle\n",
    "\n",
    "# numerical tools\n",
    "import numpy as np\n",
    "import scipy.stats\n",
    "import pandas as pd\n",
    "\n",
    "# plotting tools\n",
    "from matplotlib import pyplot as plt\n",
    "\n",
    "# interactive notebook features\n",
    "from tqdm import tqdm_notebook as tqdm\n",
    "from ipywidgets import interact\n",
    "\n",
    "# meg analysis\n",
    "import mne"
   ]
  },
  {
   "cell_type": "markdown",
   "metadata": {},
   "source": [
    "## Find all available subjects\n",
    "\n",
    "Define where you store your `camcan` data in the variable `camcanroot`."
   ]
  },
  {
   "cell_type": "code",
   "execution_count": 6,
   "metadata": {},
   "outputs": [
    {
     "name": "stdout",
     "output_type": "stream",
     "text": [
      "647 subjects found in /data/group/FANS/camcan-meg/camcan165/camcan165/cc700/mri/pipeline/release004/BIDSsep/megraw\n"
     ]
    }
   ],
   "source": [
    "# camcanroot = '/Volumes/Seagate Expansion Drive/camcan'\n",
    "# camcanroot = os.path.join('D:', 'camcan')\n",
    "camcanroot = os.path.join('/data', 'group', 'FANS', 'camcan-meg', 'camcan165', 'camcan165')\n",
    "megdataroot = os.path.join(camcanroot, 'cc700', 'mri', 'pipeline','release004', 'BIDSsep', 'megraw')\n",
    "subjects = glob(os.path.join(megdataroot, 'sub-*'))\n",
    "ids = [os.path.split(subject)[-1][4:] for subject in subjects]\n",
    "\n",
    "print(f'{len(subjects)} subjects found in {megdataroot}')"
   ]
  },
  {
   "cell_type": "code",
   "execution_count": 9,
   "metadata": {},
   "outputs": [
    {
     "name": "stdout",
     "output_type": "stream",
     "text": [
      "174\n"
     ]
    }
   ],
   "source": [
    "# filter out no-files\n",
    "subjects = [subject for subject in subjects if os.path.isfile(subject + '/meg/rest_raw.fif')]\n",
    "print(len(subjects))"
   ]
  },
  {
   "cell_type": "markdown",
   "metadata": {},
   "source": [
    "## Find the demographic information\n",
    "\n",
    "Read the demographic information from the .tsv file provided."
   ]
  },
  {
   "cell_type": "code",
   "execution_count": 10,
   "metadata": {
    "collapsed": true
   },
   "outputs": [],
   "source": [
    "subject_details = pd.DataFrame.from_csv(os.path.join(camcanroot, 'cc700-scored/participant_data.csv'))"
   ]
  },
  {
   "cell_type": "markdown",
   "metadata": {},
   "source": [
    "## Loop over MEG data\n",
    "\n"
   ]
  },
  {
   "cell_type": "code",
   "execution_count": null,
   "metadata": {},
   "outputs": [
    {
     "name": "stderr",
     "output_type": "stream",
     "text": [
      "/home/k1513504/.conda/envs/py36/lib/python3.6/site-packages/ipykernel_launcher.py:23: RuntimeWarning: divide by zero encountered in log10\n",
      "/home/k1513504/.conda/envs/py36/lib/python3.6/site-packages/numpy/lib/function_base.py:964: RuntimeWarning: invalid value encountered in multiply\n",
      "  scl = np.multiply(avg, 0) + scl\n",
      "/home/k1513504/.conda/envs/py36/lib/python3.6/site-packages/numpy/lib/function_base.py:2490: RuntimeWarning: invalid value encountered in subtract\n",
      "  X -= avg[:, None]\n"
     ]
    }
   ],
   "source": [
    "sub_params = namedtuple('sub_params',\n",
    "                        ['pid', 'slopes', 'age', 'gender',\n",
    "                         'intercepts', 'rsquared'])\n",
    "\n",
    "all_parameters = []\n",
    "psds = []\n",
    "\n",
    "for subject in tqdm(range(174)):\n",
    "    # resting state file\n",
    "    restfile = os.path.join(subjects[subject], 'meg/rest_raw.fif')\n",
    "    # raw data\n",
    "    raw = mne.io.read_raw_fif(restfile, verbose='WARNING')\n",
    "    # pick gradiometers\n",
    "    picks = mne.pick_types(raw.info, meg='grad', eeg=False, stim=False, eog=False, exclude='bads')\n",
    "    # do the PSD analysis\n",
    "    psd, freqs = mne.time_frequency.psd_welch(\n",
    "        raw, picks=picks, fmin=2, fmax=24, tmin=1, tmax=601, n_fft=2000, n_overlap=1000,\n",
    "        verbose='WARNING', n_jobs=4\n",
    "    )\n",
    "    # Do the linear regression\n",
    "    findices = (freqs < 7) | (freqs > 14)\n",
    "    linfits = [scipy.stats.linregress(freqs[findices], np.log10(psd.T[findices, grad]))\n",
    "               for grad in range(psd.shape[0])]\n",
    "\n",
    "    psds.append(psd)\n",
    "    all_parameters.append(\n",
    "        sub_params(pid=ids[subject],\n",
    "                   slopes=[l.slope for l in linfits],\n",
    "                   intercepts=[l.intercept for l in linfits],\n",
    "                   rsquared=[l.rvalue**2 for l in linfits],\n",
    "                   age=subject_details.loc[ids[subject]].age,\n",
    "                   gender=subject_details.loc[ids[subject]].gender_code)\n",
    "    )\n"
   ]
  },
  {
   "cell_type": "code",
   "execution_count": null,
   "metadata": {},
   "outputs": [],
   "source": [
    "# save data to file\n",
    "with open('./pickles/psds.pickle', 'wb+') as f:\n",
    "    pickle.dump(psds, f)\n",
    "with open('./pickles/all_parameters.pickle', 'wb+') as f:\n",
    "    pickle.dump(all_parameters, f)\n"
   ]
  },
  {
   "cell_type": "markdown",
   "metadata": {},
   "source": [
    "### Average power-spectrum"
   ]
  },
  {
   "cell_type": "code",
   "execution_count": null,
   "metadata": {},
   "outputs": [],
   "source": [
    "pltdata = np.log10(np.stack([p.mean(axis=0) for p in psds], axis=-1))\n",
    "\n",
    "plt.figure()\n",
    "plt.fill_between(freqs,\n",
    "                 np.mean(pltdata, axis=-1)-scipy.stats.sem(pltdata, axis=-1),\n",
    "                 np.mean(pltdata, axis=-1)+scipy.stats.sem(pltdata, axis=-1))\n",
    "plt.plot(freqs, np.mean(pltdata, axis=-1), color='orange')\n",
    "plt.show()"
   ]
  },
  {
   "cell_type": "markdown",
   "metadata": {},
   "source": [
    "### Boxplot of regression slope and average $r^2$ across electrodes for each subject"
   ]
  },
  {
   "cell_type": "code",
   "execution_count": null,
   "metadata": {},
   "outputs": [],
   "source": [
    "y = np.array([p.slopes for p in all_parameters])\n",
    "\n",
    "plt.figure()\n",
    "plt.boxplot(y.T)\n",
    "plt.show()\n",
    "\n",
    "y = np.array([p.rsquared for p in all_parameters])\n",
    "\n",
    "plt.figure()\n",
    "plt.boxplot(y.T)\n",
    "plt.show()\n"
   ]
  },
  {
   "cell_type": "markdown",
   "metadata": {},
   "source": [
    "### Scatter plot of age vs 1/f noise"
   ]
  },
  {
   "cell_type": "code",
   "execution_count": null,
   "metadata": {},
   "outputs": [],
   "source": [
    "x = [p.age for p in all_parameters]\n",
    "y = [np.mean(p.slopes) for p in all_parameters]\n",
    "\n",
    "plt.figure()\n",
    "plt.scatter(x, y)\n",
    "plt.show()"
   ]
  }
 ],
 "metadata": {
  "kernelspec": {
   "display_name": "Python 3",
   "language": "python",
   "name": "python3"
  },
  "language_info": {
   "codemirror_mode": {
    "name": "ipython",
    "version": 3
   },
   "file_extension": ".py",
   "mimetype": "text/x-python",
   "name": "python",
   "nbconvert_exporter": "python",
   "pygments_lexer": "ipython3",
   "version": "3.6.0"
  },
  "widgets": {
   "state": {
    "25aa2f2160a94ac49f6aa1d27c0acd21": {
     "views": [
      {
       "cell_index": 7
      }
     ]
    }
   },
   "version": "1.2.0"
  }
 },
 "nbformat": 4,
 "nbformat_minor": 2
}
