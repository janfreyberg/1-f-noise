{
 "cells": [
  {
   "cell_type": "code",
   "execution_count": 1,
   "metadata": {
    "collapsed": true
   },
   "outputs": [],
   "source": [
    "# path operations\n",
    "from glob import glob\n",
    "import os\n",
    "from pathlib import Path\n",
    "\n",
    "# data format and storage\n",
    "from collections import namedtuple\n",
    "import pickle\n",
    "\n",
    "# numerical tools\n",
    "import numpy as np\n",
    "import scipy.stats\n",
    "import pandas as pd\n",
    "\n",
    "# plotting tools\n",
    "from matplotlib import pyplot as plt\n",
    "# %matplotlib notebook\n",
    "\n",
    "# interactive notebook features\n",
    "from tqdm import tqdm_notebook as tqdm\n",
    "from ipywidgets import interact\n",
    "\n",
    "# meg analysis\n",
    "import mne"
   ]
  },
  {
   "cell_type": "markdown",
   "metadata": {},
   "source": [
    "## Find all available subjects\n",
    "\n",
    "Define where you store your `camcan` data in the variable `camcanroot`."
   ]
  },
  {
   "cell_type": "code",
   "execution_count": 2,
   "metadata": {},
   "outputs": [
    {
     "name": "stdout",
     "output_type": "stream",
     "text": [
      "647 subjects found in /Volumes/Seagate Expansion Drive/camcan/cc700/mri/pipeline/release004/BIDSsep/megraw\n"
     ]
    }
   ],
   "source": [
    "camcanroot = Path('/Volumes') / 'Seagate Expansion Drive' /'camcan'\n",
    "# camcanroot = Path('D:') / 'camcan'\n",
    "# camcanroot = Path('/data') / 'group' / 'FANS' / 'camcan-meg' / 'camcan165' / 'camcan165'\n",
    "# camcanroot = Path('/Users') / 'jan' / 'Documents' / 'eeg-data' / 'camcan'\n",
    "\n",
    "megdataroot = camcanroot / 'cc700' / 'mri' / 'pipeline' / 'release004' / 'BIDSsep' / 'megraw'\n",
    "subjects = list(megdataroot.glob('sub-*'))\n",
    "ids = [os.path.split(subject)[-1][4:] for subject in subjects]\n",
    "\n",
    "print(f'{len(subjects)} subjects found in {megdataroot}')"
   ]
  },
  {
   "cell_type": "code",
   "execution_count": 3,
   "metadata": {},
   "outputs": [
    {
     "name": "stdout",
     "output_type": "stream",
     "text": [
      "647 subjects have resting-state recordings.\n"
     ]
    }
   ],
   "source": [
    "# filter out no-files\n",
    "subjects = [subject for subject in subjects if (subject / 'meg' / 'rest_raw.fif').is_file()]\n",
    "print(f'{len(subjects)} subjects have resting-state recordings.')"
   ]
  },
  {
   "cell_type": "markdown",
   "metadata": {},
   "source": [
    "## Find the demographic information\n",
    "\n",
    "Read the demographic information from the .tsv file provided."
   ]
  },
  {
   "cell_type": "code",
   "execution_count": 4,
   "metadata": {},
   "outputs": [
    {
     "name": "stdout",
     "output_type": "stream",
     "text": [
      "Found subject information on 647 subjects.\n"
     ]
    }
   ],
   "source": [
    "subject_details = pd.DataFrame.from_csv(camcanroot / 'cc700-scored' / 'participant_data.csv')\n",
    "print(f'Found subject information on {len([pid for pid in ids if pid in subject_details.index])} subjects.')"
   ]
  },
  {
   "cell_type": "markdown",
   "metadata": {},
   "source": [
    "## Set up MEG analysis variables"
   ]
  },
  {
   "cell_type": "code",
   "execution_count": 5,
   "metadata": {
    "collapsed": true
   },
   "outputs": [],
   "source": [
    "veog = 'EOG062'\n",
    "heog = 'EOG061'\n",
    "ecg = 'ECG063'"
   ]
  },
  {
   "cell_type": "markdown",
   "metadata": {},
   "source": [
    "## Loop over MEG data\n",
    "\n",
    "First, make a data structure we can put the data in"
   ]
  },
  {
   "cell_type": "code",
   "execution_count": 6,
   "metadata": {
    "collapsed": true
   },
   "outputs": [],
   "source": [
    "sub_params = namedtuple('sub_params',\n",
    "                        ['pid', 'slopes', 'age', 'gender',\n",
    "                         'intercepts', 'rsquared'])"
   ]
  },
  {
   "cell_type": "markdown",
   "metadata": {},
   "source": [
    "For the pre-processing, we'll also use Maxwell-filtering to correct for extraneous influence. These are the necessary files:"
   ]
  },
  {
   "cell_type": "code",
   "execution_count": 7,
   "metadata": {
    "collapsed": true
   },
   "outputs": [],
   "source": [
    "ctfile = megdataroot / 'ct_sparse.fif'\n",
    "ssscal = megdataroot / 'sss_cal.dat'"
   ]
  },
  {
   "cell_type": "code",
   "execution_count": 8,
   "metadata": {
    "collapsed": true
   },
   "outputs": [],
   "source": [
    "# split the data into sequential segments for RANSAC method\n",
    "# starts = np.arange(0, (raw.n_times-raw.info['sfreq']*5)/10, raw.info['sfreq']*5)\n",
    "# events = np.stack(\n",
    "#     [starts,\n",
    "#      starts + raw.info['sfreq']*5,\n",
    "#      np.ones_like(starts)]\n",
    "# ).T.astype('int')\n",
    "\n",
    "# sequential_epochs = mne.Epochs(raw, events=events, event_id=1,\n",
    "#                                picks=mne.pick_types(raw.info, meg='grad'), preload=True, proj=False)\n",
    "\n",
    "# ransac = Ransac(verbose='tqdm_notebook', n_jobs=1)\n",
    "# epochs_clean = ransac.fit_transform(sequential_epochs)\n"
   ]
  },
  {
   "cell_type": "code",
   "execution_count": 9,
   "metadata": {
    "scrolled": false
   },
   "outputs": [],
   "source": [
    "# # get the EOG data, filter it\n",
    "# eog_data, t = raw[mne.pick_types(raw.info, eog=True, meg=False)]\n",
    "# eog_data_filtered = mne.filter.filter_data(eog_data, raw.info['sfreq'], 1, 15)\n",
    "# # only take vertical for now\n",
    "# eog_data_filtered = eog_data_filtered[1, :]\n",
    "\n",
    "# # get the ECG data, filter it\n",
    "# ecg_data, t = raw[mne.pick_types(raw.info, ecg=True, meg=False)]\n",
    "# ecg_data_filtered = mne.filter.filter_data(ecg_data, raw.info['sfreq'], 0.5, 15)\n",
    "\n",
    "# # try the automated ICA\n",
    "# picks = mne.pick_types(raw.info, meg='grad')\n",
    "# ica_comps = mne.preprocessing.run_ica(\n",
    "#     raw, 63, max_pca_components=63,\n",
    "#     picks=np.random.choice(picks, 64, replace=False), eog_ch=eog_data_filtered, ecg_ch=ecg_data_filtered\n",
    "# )"
   ]
  },
  {
   "cell_type": "code",
   "execution_count": 10,
   "metadata": {
    "scrolled": false
   },
   "outputs": [],
   "source": [
    "# raw = mne.io.read_raw_fif(subjects[0] / 'meg' / 'rest_raw.fif', verbose='WARNING')\n",
    "\n",
    "# # make a bandpass-filtered ecg channel\n",
    "\n",
    "\n",
    "# raw_corrected = mne.preprocessing.maxwell_filter(raw, cross_talk=str(ctfile), calibration=str(ssscal),\n",
    "#                                                  st_duration=10, st_correlation=0.98)\n",
    "\n",
    "# raw.plot_psd(tmax=600, fmax=60, average=False, spatial_colors=True)\n",
    "# raw_corrected.plot_psd(tmax=600, fmax=60, average=False, spatial_colors=True)"
   ]
  },
  {
   "cell_type": "markdown",
   "metadata": {},
   "source": [
    "Then, populate this data structure for each subject"
   ]
  },
  {
   "cell_type": "code",
   "execution_count": 11,
   "metadata": {
    "collapsed": true
   },
   "outputs": [
    {
     "data": {
      "application/vnd.jupyter.widget-view+json": {
       "model_id": "091537fddfe640bc8bcec5ec83de56d6"
      }
     },
     "metadata": {},
     "output_type": "display_data"
    },
    {
     "name": "stdout",
     "output_type": "stream",
     "text": [
      "Fitting ICA to data using 204 channels. \n",
      "Please be patient, this may take some time\n",
      "Selection by explained variance: 93 components\n"
     ]
    },
    {
     "name": "stderr",
     "output_type": "stream",
     "text": [
      "/Library/anaconda/envs/py36/lib/python3.6/site-packages/sklearn/decomposition/fastica_.py:116: UserWarning: FastICA did not converge. Consider increasing tolerance or the maximum number of iterations.\n",
      "  warnings.warn('FastICA did not converge. Consider increasing '\n"
     ]
    },
    {
     "name": "stdout",
     "output_type": "stream",
     "text": [
      "<ICA  |  raw data decomposition, fit (fastica): 30464 samples, 93 components, channels used: \"grad\">\n",
      "    Now searching for artifacts...\n",
      "    found 1 artifact by ECG\n",
      "    found 9 artifacts by EOG 00\n",
      "    found 1 artifact by skewness\n",
      "    found 1 artifact by kurtosis\n",
      "    found 1 artifact by variance\n",
      "Artifact indices found:\n",
      "    54, 26, 37, 50, 56, 57, 63, 67, 80, 84, 64, 64, 33\n",
      "    Removing duplicate indices...\n",
      "Ready.\n",
      "Transforming to ICA space (93 components)\n",
      "Zeroing out 12 ICA components\n",
      "Fitting ICA to data using 204 channels. \n",
      "Please be patient, this may take some time\n",
      "Selection by explained variance: 78 components\n",
      "<ICA  |  raw data decomposition, fit (fastica): 30464 samples, 78 components, channels used: \"grad\">\n",
      "    Now searching for artifacts...\n",
      "    found 3 artifacts by ECG\n",
      "    found 5 artifacts by EOG 00\n",
      "    found 1 artifact by skewness\n",
      "    found 1 artifact by kurtosis\n",
      "    found 1 artifact by variance\n",
      "Artifact indices found:\n",
      "    2, 38, 71, 0, 1, 3, 49, 61, 50, 50, 13\n",
      "    Removing duplicate indices...\n",
      "Ready.\n",
      "Transforming to ICA space (78 components)\n",
      "Zeroing out 10 ICA components\n",
      "\n"
     ]
    }
   ],
   "source": [
    "all_parameters = []\n",
    "psds = []\n",
    "\n",
    "for subject in tqdm(range(2)):\n",
    "    # resting state file\n",
    "    restfile = subjects[subject] / 'meg' / 'rest_raw.fif'\n",
    "    # raw data\n",
    "    raw = mne.io.read_raw_fif(restfile, verbose='WARNING')\n",
    "    # crop\n",
    "    raw = raw.crop(tmin=1, tmax=120)\n",
    "    # resample\n",
    "    raw = raw.load_data()\n",
    "    raw = raw.resample(256)\n",
    "    # filter\n",
    "    # filter the MEG data (exclude line noise)\n",
    "    raw = raw.filter(0.5, 30, picks=mne.pick_types(raw.info, meg=True))\n",
    "    # filter the EOG data\n",
    "    raw = raw.filter(0.5, 15, picks=mne.pick_types(raw.info, meg=False, eog=True))\n",
    "    # filter the ECG data\n",
    "    raw = raw.filter(0.5, 15, picks=mne.pick_types(raw.info, meg=False, ecg=True))\n",
    "    # maxwell-correction\n",
    "#     raw = mne.preprocessing.maxwell_filter(raw, cross_talk=str(ctfile), calibration=str(ssscal),\n",
    "#                                            st_duration=10, st_correlation=0.98)\n",
    "    # pick gradiometers\n",
    "    picks = mne.pick_types(raw.info, meg='grad', eeg=False, stim=False, eog=False, exclude='bads')\n",
    "    # run an ICA\n",
    "    ica = mne.preprocessing.run_ica(raw, n_components=0.95,\n",
    "                                    picks=picks,\n",
    "                                    eog_ch=veog, ecg_ch=ecg)\n",
    "    unprocessed_raw = raw.copy()\n",
    "    # apply this ICA\n",
    "    raw = ica.apply(raw, exclude=ica.exclude)\n",
    "    \n",
    "    # do the PSD analysis\n",
    "    psd, freqs = mne.time_frequency.psd_welch(\n",
    "        raw, picks=picks, fmin=2, fmax=24, tmin=1, tmax=601, n_fft=2000, n_overlap=1000,\n",
    "        verbose='WARNING', n_jobs=4\n",
    "    )\n",
    "    # Do the linear regression\n",
    "    findices = (freqs < 7) | (freqs > 14)\n",
    "    linfits = [scipy.stats.linregress(freqs[findices], np.log10(psd.T[findices, grad]))\n",
    "               for grad in range(psd.shape[0])]\n",
    "\n",
    "    psds.append(psd)\n",
    "    all_parameters.append(\n",
    "        sub_params(pid=ids[subject],\n",
    "                   slopes=np.array([l.slope for l in linfits]),\n",
    "                   intercepts=np.array([l.intercept for l in linfits]),\n",
    "                   rsquared=np.array([l.rvalue**2 for l in linfits]),\n",
    "                   age=subject_details.loc[ids[subject]].age,\n",
    "                   gender=subject_details.loc[ids[subject]].gender_code)\n",
    "    )\n",
    "\n"
   ]
  },
  {
   "cell_type": "markdown",
   "metadata": {},
   "source": [
    "### Save data to pickles"
   ]
  },
  {
   "cell_type": "code",
   "execution_count": null,
   "metadata": {
    "collapsed": true
   },
   "outputs": [],
   "source": [
    "# save data to file\n",
    "with open('./pickles/psds.pickle', 'wb+') as f:\n",
    "    pickle.dump(psds, f)\n",
    "with open('./pickles/all_parameters.pickle', 'wb+') as f:\n",
    "    pickle.dump(all_parameters, f)\n"
   ]
  },
  {
   "cell_type": "markdown",
   "metadata": {},
   "source": [
    "---\n",
    "\n",
    "### Load data from pickles"
   ]
  },
  {
   "cell_type": "code",
   "execution_count": null,
   "metadata": {},
   "outputs": [],
   "source": [
    "with open('./pickles/psds.pickle', 'rb') as f:\n",
    "    psds = pickle.load(f)\n",
    "with open('./pickles/all_parameters.pickle', 'rb') as f:\n",
    "    all_parameters = pickle.load(f)"
   ]
  },
  {
   "cell_type": "markdown",
   "metadata": {},
   "source": [
    "---\n",
    "\n",
    "## Identify outlier electrodes"
   ]
  },
  {
   "cell_type": "code",
   "execution_count": 12,
   "metadata": {},
   "outputs": [],
   "source": [
    "bad_elecs = []\n",
    "\n",
    "for pid in range(len(psds)):\n",
    "    bads = np.zeros_like(all_parameters[pid].rsquared, dtype='bool')\n",
    "    bads = bads | (all_parameters[pid].slopes > 0)\n",
    "    bads = bads | (all_parameters[pid].intercepts >\n",
    "                   all_parameters[pid].intercepts.mean() + 2 * all_parameters[pid].intercepts.std())\n",
    "    bads = bads | (all_parameters[pid].intercepts <\n",
    "                   all_parameters[pid].intercepts.mean() - 2 * all_parameters[pid].intercepts.std())\n",
    "    bad_elecs.append(bads)"
   ]
  },
  {
   "cell_type": "markdown",
   "metadata": {},
   "source": [
    "### Average power-spectrum"
   ]
  },
  {
   "cell_type": "code",
   "execution_count": 13,
   "metadata": {},
   "outputs": [
    {
     "data": {
      "image/png": "[encoded data removed]",
      "text/plain": [
       "<matplotlib.figure.Figure at 0x1171b13c8>"
      ]
     },
     "metadata": {},
     "output_type": "display_data"
    }
   ],
   "source": [
    "pltdata = np.log10(np.stack([p[~bad_elecs[i], :].mean(axis=0)\n",
    "                             for i, p in enumerate(psds)],\n",
    "                            axis=-1))\n",
    "\n",
    "x = list(range(pltdata.shape[0]))\n",
    "x = freqs\n",
    "\n",
    "plt.figure()\n",
    "plt.fill_between(x,\n",
    "                 np.mean(pltdata, axis=-1)-scipy.stats.sem(pltdata, axis=-1),\n",
    "                 np.mean(pltdata, axis=-1)+scipy.stats.sem(pltdata, axis=-1))\n",
    "plt.plot(x, pltdata, color=(0.5, 0.5, 1, 0.5))\n",
    "plt.plot(x, np.mean(pltdata, axis=-1), color='orange')\n",
    "plt.show()"
   ]
  },
  {
   "cell_type": "markdown",
   "metadata": {},
   "source": [
    "### Individual power spectrums"
   ]
  },
  {
   "cell_type": "code",
   "execution_count": 14,
   "metadata": {},
   "outputs": [
    {
     "data": {
      "application/vnd.jupyter.widget-view+json": {
       "model_id": "99109a684679405e82f6a6209038d0d4"
      }
     },
     "metadata": {},
     "output_type": "display_data"
    },
    {
     "data": {
      "text/plain": [
       "<function __main__.individual_spectrum>"
      ]
     },
     "execution_count": 14,
     "metadata": {},
     "output_type": "execute_result"
    }
   ],
   "source": [
    "def individual_spectrum(subjectno):\n",
    "    dat = psds[subjectno]\n",
    "    plt.figure()\n",
    "    # plot individual lines, faint\n",
    "    plt.plot(freqs, np.log10(dat.T), color=(0.3, 0.3, 1.0, 0.2))\n",
    "    plt.plot(freqs, np.log10(dat).mean(axis=0), color=(1, 0.3, 0.3))\n",
    "    plt.show()\n",
    "\n",
    "interact(individual_spectrum, subjectno=(0, len(psds)-1))"
   ]
  },
  {
   "cell_type": "markdown",
   "metadata": {},
   "source": [
    "### Boxplot of regression slope and average $r^2$ across electrodes for each subject"
   ]
  },
  {
   "cell_type": "code",
   "execution_count": 15,
   "metadata": {},
   "outputs": [
    {
     "data": {
      "image/png": "[encoded data removed]",
      "text/plain": [
       "<matplotlib.figure.Figure at 0x116d43048>"
      ]
     },
     "metadata": {},
     "output_type": "display_data"
    },
    {
     "data": {
      "image/png": "[encoded data removed]",
      "text/plain": [
       "<matplotlib.figure.Figure at 0x117538cc0>"
      ]
     },
     "metadata": {},
     "output_type": "display_data"
    }
   ],
   "source": [
    "y = np.array([p.slopes for p in all_parameters])\n",
    "\n",
    "plt.figure()\n",
    "plt.boxplot(y.T)\n",
    "plt.title('Regression slopes')\n",
    "plt.show()\n",
    "\n",
    "y = np.array([p.rsquared for p in all_parameters])\n",
    "\n",
    "plt.figure()\n",
    "plt.boxplot(y.T)\n",
    "plt.title('$r^2$ values')\n",
    "plt.show()\n"
   ]
  },
  {
   "cell_type": "markdown",
   "metadata": {},
   "source": [
    "### Scatter plot of age vs 1/f noise"
   ]
  },
  {
   "cell_type": "code",
   "execution_count": 16,
   "metadata": {},
   "outputs": [
    {
     "data": {
      "image/png": "[encoded data removed]",
      "text/plain": [
       "<matplotlib.figure.Figure at 0x116d43f60>"
      ]
     },
     "metadata": {},
     "output_type": "display_data"
    }
   ],
   "source": [
    "x = [p.age for p in all_parameters]\n",
    "y = [np.mean(p.slopes) for p in all_parameters]\n",
    "\n",
    "plt.figure()\n",
    "plt.scatter(x, y)\n",
    "plt.show()"
   ]
  }
 ],
 "metadata": {
  "kernelspec": {
   "display_name": "Python 3",
   "language": "python",
   "name": "python3"
  },
  "language_info": {
   "codemirror_mode": {
    "name": "ipython",
    "version": 3
   },
   "file_extension": ".py",
   "mimetype": "text/x-python",
   "name": "python",
   "nbconvert_exporter": "python",
   "pygments_lexer": "ipython3",
   "version": "3.6.0"
  },
  "widgets": {
   "state": {
    "25aa2f2160a94ac49f6aa1d27c0acd21": {
     "views": [
      {
       "cell_index": 7
      }
     ]
    }
   },
   "version": "1.2.0"
  }
 },
 "nbformat": 4,
 "nbformat_minor": 2
}
